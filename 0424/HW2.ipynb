{
 "cells": [
  {
   "cell_type": "code",
   "execution_count": 1,
   "metadata": {},
   "outputs": [
    {
     "name": "stdout",
     "output_type": "stream",
     "text": [
      "猜一個數字(1-10,輸入q可退出):1\n",
      "請加油！\n",
      "猜一個數字(1-10,輸入q可退出):2\n",
      "請加油！\n",
      "猜一個數字(1-10,輸入q可退出):3\n",
      "請加油！\n",
      "猜一個數字(1-10,輸入q可退出):4\n",
      "請加油！\n",
      "猜一個數字(1-10,輸入q可退出):8\n",
      "恭喜猜對！\n"
     ]
    }
   ],
   "source": [
    "luckynum ='8'\n",
    "while True:\n",
    "    x=input(\"猜一個數字(1-10,輸入q可退出):\")\n",
    "    if x ==luckynum:\n",
    "        print(\"恭喜猜對！\")\n",
    "        break\n",
    "    elif x =='q':\n",
    "        break\n",
    "    else:\n",
    "        print(\"請加油！\")\n",
    "        continue"
   ]
  },
  {
   "cell_type": "code",
   "execution_count": null,
   "metadata": {},
   "outputs": [],
   "source": []
  }
 ],
 "metadata": {
  "kernelspec": {
   "display_name": "Python 3",
   "language": "python",
   "name": "python3"
  },
  "language_info": {
   "codemirror_mode": {
    "name": "ipython",
    "version": 3
   },
   "file_extension": ".py",
   "mimetype": "text/x-python",
   "name": "python",
   "nbconvert_exporter": "python",
   "pygments_lexer": "ipython3",
   "version": "3.7.3"
  }
 },
 "nbformat": 4,
 "nbformat_minor": 2
}
