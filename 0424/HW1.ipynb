{
 "cells": [
  {
   "cell_type": "code",
   "execution_count": 13,
   "metadata": {},
   "outputs": [
    {
     "name": "stdout",
     "output_type": "stream",
     "text": [
      "請輸入成績:50\n",
      "Failed\n"
     ]
    }
   ],
   "source": [
    "userinput = input(\"請輸入成績:\")\n",
    "if userinput.isdigit():\n",
    "    userinput = int(userinput)\n",
    "    if userinput<60:\n",
    "        print(\"Failed\")\n",
    "    else:\n",
    "        if userinput>80:\n",
    "            print(\"Excellent\")\n",
    "        else:\n",
    "            print(\"Pass\")\n",
    "else:\n",
    "    print(\"請輸入數字!\")\n",
    "            "
   ]
  },
  {
   "cell_type": "code",
   "execution_count": null,
   "metadata": {},
   "outputs": [],
   "source": []
  }
 ],
 "metadata": {
  "kernelspec": {
   "display_name": "Python 3",
   "language": "python",
   "name": "python3"
  },
  "language_info": {
   "codemirror_mode": {
    "name": "ipython",
    "version": 3
   },
   "file_extension": ".py",
   "mimetype": "text/x-python",
   "name": "python",
   "nbconvert_exporter": "python",
   "pygments_lexer": "ipython3",
   "version": "3.7.3"
  }
 },
 "nbformat": 4,
 "nbformat_minor": 2
}
